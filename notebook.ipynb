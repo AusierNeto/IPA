{
 "cells": [
  {
   "cell_type": "code",
   "execution_count": 1,
   "metadata": {},
   "outputs": [],
   "source": [
    "from poc import POC"
   ]
  },
  {
   "cell_type": "code",
   "execution_count": 2,
   "metadata": {},
   "outputs": [],
   "source": [
    "b = POC()"
   ]
  },
  {
   "cell_type": "code",
   "execution_count": 3,
   "metadata": {},
   "outputs": [],
   "source": [
    "b.start()"
   ]
  },
  {
   "cell_type": "code",
   "execution_count": 4,
   "metadata": {},
   "outputs": [],
   "source": [
    "b.select_course()"
   ]
  },
  {
   "cell_type": "code",
   "execution_count": 5,
   "metadata": {},
   "outputs": [],
   "source": [
    "b.select_course_section()"
   ]
  },
  {
   "cell_type": "code",
   "execution_count": 6,
   "metadata": {},
   "outputs": [],
   "source": [
    "b.click_start_coding_button()"
   ]
  },
  {
   "cell_type": "code",
   "execution_count": 9,
   "metadata": {},
   "outputs": [],
   "source": [
    "from selenium.webdriver.common.by import By\n",
    "\n",
    "description_container = b.driver.find_element(By.CLASS_NAME, \"description-container\")"
   ]
  },
  {
   "cell_type": "code",
   "execution_count": 10,
   "metadata": {},
   "outputs": [
    {
     "data": {
      "text/plain": [
       "'Step 1\\nHTML elements have an opening and closing tag with content in between.\\nHere is the basic syntax:\\nExample Code\\n<openingTag>content</closingTag>\\nThe first element you will learn about is the h1 element. The h1 element is a heading element and is used for the main heading of a webpage.\\nExample Code\\n<h1>This is a main heading</h1>\\nChange the text of the h1 element below from Hello World to CatPhotoApp and watch the change in the browser preview.\\nWhen you are done, press the \"Check Your Code\" button to see if it\\'s correct.'"
      ]
     },
     "execution_count": 10,
     "metadata": {},
     "output_type": "execute_result"
    }
   ],
   "source": [
    "description_container.text"
   ]
  },
  {
   "cell_type": "code",
   "execution_count": 3,
   "metadata": {},
   "outputs": [],
   "source": [
    "b.action()"
   ]
  },
  {
   "cell_type": "code",
   "execution_count": 4,
   "metadata": {},
   "outputs": [],
   "source": [
    "iframe = b.driver.find_element(By.ID, 'fcc-main-frame')\n",
    "b.driver.switch_to.frame(iframe)"
   ]
  },
  {
   "cell_type": "code",
   "execution_count": 7,
   "metadata": {},
   "outputs": [
    {
     "name": "stdout",
     "output_type": "stream",
     "text": [
      "<html><head><base href=\"\">\n",
      "  <script>\n",
      "    window.__frameId = 'fcc-main-frame';\n",
      "    window.onerror = function(msg) {\n",
      "      const string = msg.toLowerCase();\n",
      "      if (string.includes('script error')) {\n",
      "        msg = 'Build error, open your browser console to learn more.';\n",
      "      }\n",
      "      console.log(msg);\n",
      "      return true;\n",
      "    };\n",
      "    document.addEventListener('click', function(e) {\n",
      "      let element = e.target;\n",
      "      while(element && element.nodeName !== 'A') {\n",
      "        element = element.parentElement;\n",
      "      }\n",
      "      if (element && element.nodeName === 'A' && new URL(element.href).hash === '') {\n",
      "        e.preventDefault();\n",
      "        window.parent.window.alert(\n",
      "          i18nContent.t('misc.iframe-alert', { externalLink: element.href })\n",
      "        )\n",
      "      }\n",
      "      if (element) {\n",
      "        const href = element.getAttribute('href');\n",
      "        if (!href || href[0] !== '#' && !href.match(/^https?:\\/\\//)) {\n",
      "          e.preventDefault();\n",
      "        }\n",
      "      }\n",
      "    }, false);\n",
      "    document.addEventListener('submit', function(e) {\n",
      "      const action = e.target.getAttribute('action');\n",
      "      e.preventDefault();\n",
      "      if (action && action.match(/https?:\\/\\//)) {\n",
      "        window.parent.window.alert(\n",
      "          i18nContent.t('misc.iframe-form-submit-alert', { externalLink: action  })\n",
      "        )\n",
      "      }\n",
      "    }, false);\n",
      "  </script>\n",
      "</head><body>\n",
      "    <h1>Hello World</h1>\n",
      "  \n",
      "</body></html>\n"
     ]
    }
   ],
   "source": [
    "html_code = b.driver.find_element(By.TAG_NAME, 'html').get_attribute('outerHTML')\n",
    "print(html_code)"
   ]
  },
  {
   "cell_type": "code",
   "execution_count": null,
   "metadata": {},
   "outputs": [],
   "source": []
  },
  {
   "cell_type": "code",
   "execution_count": null,
   "metadata": {},
   "outputs": [],
   "source": []
  },
  {
   "cell_type": "code",
   "execution_count": 50,
   "metadata": {},
   "outputs": [],
   "source": [
    "courses_list = driver.find_elements(By.CLASS_NAME, \"map-superblock-link\")"
   ]
  },
  {
   "cell_type": "code",
   "execution_count": 5,
   "metadata": {},
   "outputs": [],
   "source": [
    "# for course in courses_list:\n",
    "#     course.click()\n",
    "#     print(\"makeRoutine\")"
   ]
  },
  {
   "cell_type": "code",
   "execution_count": 52,
   "metadata": {},
   "outputs": [],
   "source": [
    "courses_list[0].click()"
   ]
  },
  {
   "cell_type": "code",
   "execution_count": 53,
   "metadata": {},
   "outputs": [
    {
     "name": "stdout",
     "output_type": "stream",
     "text": [
      "[<selenium.webdriver.remote.webelement.WebElement (session=\"b5e7ab72423d1b033c6510837306f028\", element=\"f.3532675A1D7777062756688F0A42B5B1.d.DC2FCF7D4EC1247FFE77B48CFD064DA7.e.33\")>, <selenium.webdriver.remote.webelement.WebElement (session=\"b5e7ab72423d1b033c6510837306f028\", element=\"f.3532675A1D7777062756688F0A42B5B1.d.DC2FCF7D4EC1247FFE77B48CFD064DA7.e.34\")>, <selenium.webdriver.remote.webelement.WebElement (session=\"b5e7ab72423d1b033c6510837306f028\", element=\"f.3532675A1D7777062756688F0A42B5B1.d.DC2FCF7D4EC1247FFE77B48CFD064DA7.e.35\")>, <selenium.webdriver.remote.webelement.WebElement (session=\"b5e7ab72423d1b033c6510837306f028\", element=\"f.3532675A1D7777062756688F0A42B5B1.d.DC2FCF7D4EC1247FFE77B48CFD064DA7.e.36\")>, <selenium.webdriver.remote.webelement.WebElement (session=\"b5e7ab72423d1b033c6510837306f028\", element=\"f.3532675A1D7777062756688F0A42B5B1.d.DC2FCF7D4EC1247FFE77B48CFD064DA7.e.37\")>, <selenium.webdriver.remote.webelement.WebElement (session=\"b5e7ab72423d1b033c6510837306f028\", element=\"f.3532675A1D7777062756688F0A42B5B1.d.DC2FCF7D4EC1247FFE77B48CFD064DA7.e.38\")>, <selenium.webdriver.remote.webelement.WebElement (session=\"b5e7ab72423d1b033c6510837306f028\", element=\"f.3532675A1D7777062756688F0A42B5B1.d.DC2FCF7D4EC1247FFE77B48CFD064DA7.e.39\")>, <selenium.webdriver.remote.webelement.WebElement (session=\"b5e7ab72423d1b033c6510837306f028\", element=\"f.3532675A1D7777062756688F0A42B5B1.d.DC2FCF7D4EC1247FFE77B48CFD064DA7.e.40\")>, <selenium.webdriver.remote.webelement.WebElement (session=\"b5e7ab72423d1b033c6510837306f028\", element=\"f.3532675A1D7777062756688F0A42B5B1.d.DC2FCF7D4EC1247FFE77B48CFD064DA7.e.41\")>, <selenium.webdriver.remote.webelement.WebElement (session=\"b5e7ab72423d1b033c6510837306f028\", element=\"f.3532675A1D7777062756688F0A42B5B1.d.DC2FCF7D4EC1247FFE77B48CFD064DA7.e.42\")>, <selenium.webdriver.remote.webelement.WebElement (session=\"b5e7ab72423d1b033c6510837306f028\", element=\"f.3532675A1D7777062756688F0A42B5B1.d.DC2FCF7D4EC1247FFE77B48CFD064DA7.e.43\")>, <selenium.webdriver.remote.webelement.WebElement (session=\"b5e7ab72423d1b033c6510837306f028\", element=\"f.3532675A1D7777062756688F0A42B5B1.d.DC2FCF7D4EC1247FFE77B48CFD064DA7.e.44\")>, <selenium.webdriver.remote.webelement.WebElement (session=\"b5e7ab72423d1b033c6510837306f028\", element=\"f.3532675A1D7777062756688F0A42B5B1.d.DC2FCF7D4EC1247FFE77B48CFD064DA7.e.45\")>, <selenium.webdriver.remote.webelement.WebElement (session=\"b5e7ab72423d1b033c6510837306f028\", element=\"f.3532675A1D7777062756688F0A42B5B1.d.DC2FCF7D4EC1247FFE77B48CFD064DA7.e.46\")>, <selenium.webdriver.remote.webelement.WebElement (session=\"b5e7ab72423d1b033c6510837306f028\", element=\"f.3532675A1D7777062756688F0A42B5B1.d.DC2FCF7D4EC1247FFE77B48CFD064DA7.e.47\")>, <selenium.webdriver.remote.webelement.WebElement (session=\"b5e7ab72423d1b033c6510837306f028\", element=\"f.3532675A1D7777062756688F0A42B5B1.d.DC2FCF7D4EC1247FFE77B48CFD064DA7.e.48\")>, <selenium.webdriver.remote.webelement.WebElement (session=\"b5e7ab72423d1b033c6510837306f028\", element=\"f.3532675A1D7777062756688F0A42B5B1.d.DC2FCF7D4EC1247FFE77B48CFD064DA7.e.49\")>, <selenium.webdriver.remote.webelement.WebElement (session=\"b5e7ab72423d1b033c6510837306f028\", element=\"f.3532675A1D7777062756688F0A42B5B1.d.DC2FCF7D4EC1247FFE77B48CFD064DA7.e.50\")>, <selenium.webdriver.remote.webelement.WebElement (session=\"b5e7ab72423d1b033c6510837306f028\", element=\"f.3532675A1D7777062756688F0A42B5B1.d.DC2FCF7D4EC1247FFE77B48CFD064DA7.e.51\")>, <selenium.webdriver.remote.webelement.WebElement (session=\"b5e7ab72423d1b033c6510837306f028\", element=\"f.3532675A1D7777062756688F0A42B5B1.d.DC2FCF7D4EC1247FFE77B48CFD064DA7.e.52\")>]\n"
     ]
    }
   ],
   "source": [
    "courses_section = driver.find_elements(By.CLASS_NAME, 'map-title')\n",
    "print(courses_section)"
   ]
  },
  {
   "cell_type": "code",
   "execution_count": 54,
   "metadata": {},
   "outputs": [],
   "source": [
    "courses_section[0].click() # Dropdown section button"
   ]
  },
  {
   "cell_type": "code",
   "execution_count": 19,
   "metadata": {},
   "outputs": [],
   "source": [
    "start_project_button = driver.find_elements(By.CLASS_NAME, 'btn-sm') # Start Project Button"
   ]
  },
  {
   "cell_type": "code",
   "execution_count": 20,
   "metadata": {},
   "outputs": [],
   "source": [
    "start_project_button[0].click()"
   ]
  },
  {
   "cell_type": "code",
   "execution_count": 21,
   "metadata": {},
   "outputs": [],
   "source": [
    "start_coding_button = driver.find_element(By.XPATH, '//*[@id=\"headlessui-dialog-panel-2\"]/div[3]/button')\n",
    "start_coding_button.click()"
   ]
  },
  {
   "cell_type": "code",
   "execution_count": 22,
   "metadata": {},
   "outputs": [],
   "source": [
    "challenge_description_class = 'description-container'\n",
    "challenge_description = driver.find_element(By.CLASS_NAME, challenge_description_class)"
   ]
  },
  {
   "cell_type": "code",
   "execution_count": null,
   "metadata": {},
   "outputs": [],
   "source": []
  }
 ],
 "metadata": {
  "kernelspec": {
   "display_name": "venv",
   "language": "python",
   "name": "python3"
  },
  "language_info": {
   "codemirror_mode": {
    "name": "ipython",
    "version": 3
   },
   "file_extension": ".py",
   "mimetype": "text/x-python",
   "name": "python",
   "nbconvert_exporter": "python",
   "pygments_lexer": "ipython3",
   "version": "3.9.0"
  }
 },
 "nbformat": 4,
 "nbformat_minor": 2
}
